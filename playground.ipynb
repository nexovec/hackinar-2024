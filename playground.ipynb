{
 "cells": [
  {
   "cell_type": "markdown",
   "metadata": {},
   "source": [
    "# Datový notebook\n",
    "\n",
    "Je ideálním způsobem jak si interaktivní formou předzpracovat data, než kód vložíte do aplikace.\n",
    "\n",
    "Načteme data o počtech obyvatel v ČR a já pak ukážu, jak se s nimi pracuje."
   ]
  },
  {
   "cell_type": "code",
   "execution_count": 4,
   "metadata": {},
   "outputs": [],
   "source": [
    "# Tato buňka importuje knihovny. Každý skript toto na začátku dělá, můžete si jich klidně nevšímat.\n",
    "import pyecharts\n",
    "import polars as pl"
   ]
  },
  {
   "cell_type": "code",
   "execution_count": 5,
   "metadata": {},
   "outputs": [],
   "source": [
    "pl.read_csv('scitani.csv').select(\n",
    "        'idhod', 'hodnota', 'stapro_kod', 'stapro_txt', 'datum', 'rok', 'vuzemi_kod'\n",
    "    ).rename({\n",
    "        'idhod': 'ID',\n",
    "        'vuzemi_kod': 'obec_id'\n",
    "}).write_csv('scitani_obyvatel.csv')\n"
   ]
  },
  {
   "cell_type": "markdown",
   "metadata": {},
   "source": [
    "## Načtení dat\n",
    "\n",
    "Pythonem umíme načítat data ze souborů v různých formátech, přes síť, z databáze, úplně odevšaď.\n",
    "\n",
    "Zde budeme pro jednoduchost používat CSV soubory. Co to je CSV zjistíte velmi rychle, když si ho otevřete."
   ]
  },
  {
   "cell_type": "code",
   "execution_count": 6,
   "metadata": {},
   "outputs": [
    {
     "data": {
      "text/html": [
       "<div><style>\n",
       ".dataframe > thead > tr,\n",
       ".dataframe > tbody > tr {\n",
       "  text-align: right;\n",
       "  white-space: pre-wrap;\n",
       "}\n",
       "</style>\n",
       "<small>shape: (175_081, 7)</small><table border=\"1\" class=\"dataframe\"><thead><tr><th>ID</th><th>hodnota</th><th>stapro_kod</th><th>stapro_txt</th><th>datum</th><th>rok</th><th>obec_id</th></tr><tr><td>i64</td><td>i64</td><td>i64</td><td>str</td><td>str</td><td>i64</td><td>i64</td></tr></thead><tbody><tr><td>808433980</td><td>1148</td><td>2406</td><td>&quot;Počet obyvatel s trvalým nebo …</td><td>&quot;2011-03-26&quot;</td><td>2011</td><td>594881</td></tr><tr><td>808433981</td><td>659</td><td>2406</td><td>&quot;Počet obyvatel s trvalým nebo …</td><td>&quot;2011-03-26&quot;</td><td>2011</td><td>594890</td></tr><tr><td>808433982</td><td>621</td><td>2406</td><td>&quot;Počet obyvatel s trvalým nebo …</td><td>&quot;2011-03-26&quot;</td><td>2011</td><td>594911</td></tr><tr><td>808433983</td><td>1340</td><td>2406</td><td>&quot;Počet obyvatel s trvalým nebo …</td><td>&quot;2011-03-26&quot;</td><td>2011</td><td>594920</td></tr><tr><td>808433985</td><td>533</td><td>2406</td><td>&quot;Počet obyvatel s trvalým nebo …</td><td>&quot;2011-03-26&quot;</td><td>2011</td><td>594946</td></tr><tr><td>&hellip;</td><td>&hellip;</td><td>&hellip;</td><td>&hellip;</td><td>&hellip;</td><td>&hellip;</td><td>&hellip;</td></tr><tr><td>742374420</td><td>106</td><td>2409</td><td>&quot;Počet domů&quot;</td><td>&quot;1890-12-31&quot;</td><td>1890</td><td>549746</td></tr><tr><td>742379026</td><td>82</td><td>2409</td><td>&quot;Počet domů&quot;</td><td>&quot;1890-12-31&quot;</td><td>1890</td><td>552267</td></tr><tr><td>742379040</td><td>55</td><td>2409</td><td>&quot;Počet domů&quot;</td><td>&quot;1890-12-31&quot;</td><td>1890</td><td>552194</td></tr><tr><td>742379054</td><td>61</td><td>2409</td><td>&quot;Počet domů&quot;</td><td>&quot;1890-12-31&quot;</td><td>1890</td><td>547018</td></tr><tr><td>742379068</td><td>136</td><td>2409</td><td>&quot;Počet domů&quot;</td><td>&quot;1890-12-31&quot;</td><td>1890</td><td>568961</td></tr></tbody></table></div>"
      ],
      "text/plain": [
       "shape: (175_081, 7)\n",
       "┌───────────┬─────────┬────────────┬─────────────────────────────────┬────────────┬──────┬─────────┐\n",
       "│ ID        ┆ hodnota ┆ stapro_kod ┆ stapro_txt                      ┆ datum      ┆ rok  ┆ obec_id │\n",
       "│ ---       ┆ ---     ┆ ---        ┆ ---                             ┆ ---        ┆ ---  ┆ ---     │\n",
       "│ i64       ┆ i64     ┆ i64        ┆ str                             ┆ str        ┆ i64  ┆ i64     │\n",
       "╞═══════════╪═════════╪════════════╪═════════════════════════════════╪════════════╪══════╪═════════╡\n",
       "│ 808433980 ┆ 1148    ┆ 2406       ┆ Počet obyvatel s trvalým nebo … ┆ 2011-03-26 ┆ 2011 ┆ 594881  │\n",
       "│ 808433981 ┆ 659     ┆ 2406       ┆ Počet obyvatel s trvalým nebo … ┆ 2011-03-26 ┆ 2011 ┆ 594890  │\n",
       "│ 808433982 ┆ 621     ┆ 2406       ┆ Počet obyvatel s trvalým nebo … ┆ 2011-03-26 ┆ 2011 ┆ 594911  │\n",
       "│ 808433983 ┆ 1340    ┆ 2406       ┆ Počet obyvatel s trvalým nebo … ┆ 2011-03-26 ┆ 2011 ┆ 594920  │\n",
       "│ 808433985 ┆ 533     ┆ 2406       ┆ Počet obyvatel s trvalým nebo … ┆ 2011-03-26 ┆ 2011 ┆ 594946  │\n",
       "│ …         ┆ …       ┆ …          ┆ …                               ┆ …          ┆ …    ┆ …       │\n",
       "│ 742374420 ┆ 106     ┆ 2409       ┆ Počet domů                      ┆ 1890-12-31 ┆ 1890 ┆ 549746  │\n",
       "│ 742379026 ┆ 82      ┆ 2409       ┆ Počet domů                      ┆ 1890-12-31 ┆ 1890 ┆ 552267  │\n",
       "│ 742379040 ┆ 55      ┆ 2409       ┆ Počet domů                      ┆ 1890-12-31 ┆ 1890 ┆ 552194  │\n",
       "│ 742379054 ┆ 61      ┆ 2409       ┆ Počet domů                      ┆ 1890-12-31 ┆ 1890 ┆ 547018  │\n",
       "│ 742379068 ┆ 136     ┆ 2409       ┆ Počet domů                      ┆ 1890-12-31 ┆ 1890 ┆ 568961  │\n",
       "└───────────┴─────────┴────────────┴─────────────────────────────────┴────────────┴──────┴─────────┘"
      ]
     },
     "execution_count": 6,
     "metadata": {},
     "output_type": "execute_result"
    }
   ],
   "source": [
    "df = pl.read_csv('scitani_obyvatel.csv') # načte data do proměné df(zkráceně dataframe - obvyklý název)\n",
    "df # tohle hezky zobrazí, co v té proměnné je"
   ]
  },
  {
   "cell_type": "markdown",
   "metadata": {},
   "source": [
    "## Filtry, selecty\n",
    "\n",
    "Základní analýza dat vyžaduje znát jenom pár věcí.\n",
    "\n",
    "Je tady spoustu různých sloupečků, a nás jich zajímá jen pár."
   ]
  },
  {
   "cell_type": "markdown",
   "metadata": {},
   "source": [
    "Když chci vybrat jen nějaké sloupce, použiju `.select`."
   ]
  },
  {
   "cell_type": "code",
   "execution_count": 7,
   "metadata": {},
   "outputs": [
    {
     "data": {
      "text/html": [
       "<div><style>\n",
       ".dataframe > thead > tr,\n",
       ".dataframe > tbody > tr {\n",
       "  text-align: right;\n",
       "  white-space: pre-wrap;\n",
       "}\n",
       "</style>\n",
       "<small>shape: (175_081, 4)</small><table border=\"1\" class=\"dataframe\"><thead><tr><th>ID</th><th>hodnota</th><th>stapro_kod</th><th>stapro_txt</th></tr><tr><td>i64</td><td>i64</td><td>i64</td><td>str</td></tr></thead><tbody><tr><td>808433980</td><td>1148</td><td>2406</td><td>&quot;Počet obyvatel s trvalým nebo …</td></tr><tr><td>808433981</td><td>659</td><td>2406</td><td>&quot;Počet obyvatel s trvalým nebo …</td></tr><tr><td>808433982</td><td>621</td><td>2406</td><td>&quot;Počet obyvatel s trvalým nebo …</td></tr><tr><td>808433983</td><td>1340</td><td>2406</td><td>&quot;Počet obyvatel s trvalým nebo …</td></tr><tr><td>808433985</td><td>533</td><td>2406</td><td>&quot;Počet obyvatel s trvalým nebo …</td></tr><tr><td>&hellip;</td><td>&hellip;</td><td>&hellip;</td><td>&hellip;</td></tr><tr><td>742374420</td><td>106</td><td>2409</td><td>&quot;Počet domů&quot;</td></tr><tr><td>742379026</td><td>82</td><td>2409</td><td>&quot;Počet domů&quot;</td></tr><tr><td>742379040</td><td>55</td><td>2409</td><td>&quot;Počet domů&quot;</td></tr><tr><td>742379054</td><td>61</td><td>2409</td><td>&quot;Počet domů&quot;</td></tr><tr><td>742379068</td><td>136</td><td>2409</td><td>&quot;Počet domů&quot;</td></tr></tbody></table></div>"
      ],
      "text/plain": [
       "shape: (175_081, 4)\n",
       "┌───────────┬─────────┬────────────┬─────────────────────────────────┐\n",
       "│ ID        ┆ hodnota ┆ stapro_kod ┆ stapro_txt                      │\n",
       "│ ---       ┆ ---     ┆ ---        ┆ ---                             │\n",
       "│ i64       ┆ i64     ┆ i64        ┆ str                             │\n",
       "╞═══════════╪═════════╪════════════╪═════════════════════════════════╡\n",
       "│ 808433980 ┆ 1148    ┆ 2406       ┆ Počet obyvatel s trvalým nebo … │\n",
       "│ 808433981 ┆ 659     ┆ 2406       ┆ Počet obyvatel s trvalým nebo … │\n",
       "│ 808433982 ┆ 621     ┆ 2406       ┆ Počet obyvatel s trvalým nebo … │\n",
       "│ 808433983 ┆ 1340    ┆ 2406       ┆ Počet obyvatel s trvalým nebo … │\n",
       "│ 808433985 ┆ 533     ┆ 2406       ┆ Počet obyvatel s trvalým nebo … │\n",
       "│ …         ┆ …       ┆ …          ┆ …                               │\n",
       "│ 742374420 ┆ 106     ┆ 2409       ┆ Počet domů                      │\n",
       "│ 742379026 ┆ 82      ┆ 2409       ┆ Počet domů                      │\n",
       "│ 742379040 ┆ 55      ┆ 2409       ┆ Počet domů                      │\n",
       "│ 742379054 ┆ 61      ┆ 2409       ┆ Počet domů                      │\n",
       "│ 742379068 ┆ 136     ┆ 2409       ┆ Počet domů                      │\n",
       "└───────────┴─────────┴────────────┴─────────────────────────────────┘"
      ]
     },
     "execution_count": 7,
     "metadata": {},
     "output_type": "execute_result"
    }
   ],
   "source": [
    "ktere_chci_sloupecky = ['ID', 'hodnota', 'stapro_kod', 'stapro_txt']\n",
    "df_par_sloupcu = df.select(ktere_chci_sloupecky)\n",
    "df_par_sloupcu"
   ]
  },
  {
   "cell_type": "markdown",
   "metadata": {},
   "source": [
    "Vidíme zde, že tu jsou různá data. Některé řádky jsou data o počtech obyvatel, jiné o počtu domů etc.\n",
    "\n",
    "Mně by teď zajímal pouze počet obyvatel, a zbytek řádků zahodím.\n",
    "\n",
    "Na vybírání  `.filter`."
   ]
  },
  {
   "cell_type": "code",
   "execution_count": 8,
   "metadata": {},
   "outputs": [
    {
     "data": {
      "text/html": [
       "<div><style>\n",
       ".dataframe > thead > tr,\n",
       ".dataframe > tbody > tr {\n",
       "  text-align: right;\n",
       "  white-space: pre-wrap;\n",
       "}\n",
       "</style>\n",
       "<small>shape: (87_539, 4)</small><table border=\"1\" class=\"dataframe\"><thead><tr><th>ID</th><th>hodnota</th><th>stapro_kod</th><th>stapro_txt</th></tr><tr><td>i64</td><td>i64</td><td>i64</td><td>str</td></tr></thead><tbody><tr><td>808433980</td><td>1148</td><td>2406</td><td>&quot;Počet obyvatel s trvalým nebo …</td></tr><tr><td>808433981</td><td>659</td><td>2406</td><td>&quot;Počet obyvatel s trvalým nebo …</td></tr><tr><td>808433982</td><td>621</td><td>2406</td><td>&quot;Počet obyvatel s trvalým nebo …</td></tr><tr><td>808433983</td><td>1340</td><td>2406</td><td>&quot;Počet obyvatel s trvalým nebo …</td></tr><tr><td>808433985</td><td>533</td><td>2406</td><td>&quot;Počet obyvatel s trvalým nebo …</td></tr><tr><td>&hellip;</td><td>&hellip;</td><td>&hellip;</td><td>&hellip;</td></tr><tr><td>741872565</td><td>958</td><td>2406</td><td>&quot;Počet obyvatel s trvalým nebo …</td></tr><tr><td>741872579</td><td>1491</td><td>2406</td><td>&quot;Počet obyvatel s trvalým nebo …</td></tr><tr><td>741872593</td><td>556</td><td>2406</td><td>&quot;Počet obyvatel s trvalým nebo …</td></tr><tr><td>741872607</td><td>2271</td><td>2406</td><td>&quot;Počet obyvatel s trvalým nebo …</td></tr><tr><td>741872621</td><td>2159</td><td>2406</td><td>&quot;Počet obyvatel s trvalým nebo …</td></tr></tbody></table></div>"
      ],
      "text/plain": [
       "shape: (87_539, 4)\n",
       "┌───────────┬─────────┬────────────┬─────────────────────────────────┐\n",
       "│ ID        ┆ hodnota ┆ stapro_kod ┆ stapro_txt                      │\n",
       "│ ---       ┆ ---     ┆ ---        ┆ ---                             │\n",
       "│ i64       ┆ i64     ┆ i64        ┆ str                             │\n",
       "╞═══════════╪═════════╪════════════╪═════════════════════════════════╡\n",
       "│ 808433980 ┆ 1148    ┆ 2406       ┆ Počet obyvatel s trvalým nebo … │\n",
       "│ 808433981 ┆ 659     ┆ 2406       ┆ Počet obyvatel s trvalým nebo … │\n",
       "│ 808433982 ┆ 621     ┆ 2406       ┆ Počet obyvatel s trvalým nebo … │\n",
       "│ 808433983 ┆ 1340    ┆ 2406       ┆ Počet obyvatel s trvalým nebo … │\n",
       "│ 808433985 ┆ 533     ┆ 2406       ┆ Počet obyvatel s trvalým nebo … │\n",
       "│ …         ┆ …       ┆ …          ┆ …                               │\n",
       "│ 741872565 ┆ 958     ┆ 2406       ┆ Počet obyvatel s trvalým nebo … │\n",
       "│ 741872579 ┆ 1491    ┆ 2406       ┆ Počet obyvatel s trvalým nebo … │\n",
       "│ 741872593 ┆ 556     ┆ 2406       ┆ Počet obyvatel s trvalým nebo … │\n",
       "│ 741872607 ┆ 2271    ┆ 2406       ┆ Počet obyvatel s trvalým nebo … │\n",
       "│ 741872621 ┆ 2159    ┆ 2406       ┆ Počet obyvatel s trvalým nebo … │\n",
       "└───────────┴─────────┴────────────┴─────────────────────────────────┘"
      ]
     },
     "execution_count": 8,
     "metadata": {},
     "output_type": "execute_result"
    }
   ],
   "source": [
    "# vidím, že počet obyvatel má kód 2406, takže si vyberu jen řádky, které mají tento kód.\n",
    "ktere_chci_radky = pl.col('stapro_kod') == 2406\n",
    "df_vybrane_radky = df_par_sloupcu.filter(ktere_chci_radky) # mnou zadaná podmínka se ověří pro každý řádek, nevyhovující řádky se zahodí\n",
    "df_vybrane_radky"
   ]
  },
  {
   "cell_type": "markdown",
   "metadata": {},
   "source": [
    "Krása.\n",
    "\n",
    "Na těchto odfiltrovaných datech se dá najít suma(popřípadě minumum, maximum, medián apod.) všech hodnot v nějakém sloupci. Tomu se obecně říká agregace dat.\n",
    "\n",
    "Kdybych třeba pro kontrolu chtěl celkový počet obyvatel, mohu to nejjednodušeji udělat takto."
   ]
  },
  {
   "cell_type": "code",
   "execution_count": 9,
   "metadata": {},
   "outputs": [
    {
     "data": {
      "text/html": [
       "<div><style>\n",
       ".dataframe > thead > tr,\n",
       ".dataframe > tbody > tr {\n",
       "  text-align: right;\n",
       "  white-space: pre-wrap;\n",
       "}\n",
       "</style>\n",
       "<small>shape: (1, 1)</small><table border=\"1\" class=\"dataframe\"><thead><tr><th>hodnota</th></tr><tr><td>i64</td></tr></thead><tbody><tr><td>134178028</td></tr></tbody></table></div>"
      ],
      "text/plain": [
       "shape: (1, 1)\n",
       "┌───────────┐\n",
       "│ hodnota   │\n",
       "│ ---       │\n",
       "│ i64       │\n",
       "╞═══════════╡\n",
       "│ 134178028 │\n",
       "└───────────┘"
      ]
     },
     "execution_count": 9,
     "metadata": {},
     "output_type": "execute_result"
    }
   ],
   "source": [
    "df_vybrane_radky.select('hodnota').sum()"
   ]
  },
  {
   "cell_type": "markdown",
   "metadata": {},
   "source": [
    "To je víc, než bychom čekali. Když se toto stane, dobrý start je prostě se do dat podívat a zkusit vytušit, co je špatně.\n",
    "\n",
    "Jistě si všimnete, že je v datech údaj \"rok\". Tím se to asi vysvětluje. V tomto dataframu už ten údaj nemám, protože jsem ho zahodil.\n",
    "Jeden způsob, jak ho dostat, je znova zopakovat celý postup, jen si přidat řádek, odfiltrovat nejnovější rok a dostat správné číslo.\n",
    "\n",
    "(všimněte si jak je to docela komplikované, v praxi to bývá ještě horší)"
   ]
  },
  {
   "cell_type": "code",
   "execution_count": 10,
   "metadata": {},
   "outputs": [
    {
     "data": {
      "text/html": [
       "<div><style>\n",
       ".dataframe > thead > tr,\n",
       ".dataframe > tbody > tr {\n",
       "  text-align: right;\n",
       "  white-space: pre-wrap;\n",
       "}\n",
       "</style>\n",
       "<small>shape: (1, 1)</small><table border=\"1\" class=\"dataframe\"><thead><tr><th>hodnota</th></tr><tr><td>i64</td></tr></thead><tbody><tr><td>10488891</td></tr></tbody></table></div>"
      ],
      "text/plain": [
       "shape: (1, 1)\n",
       "┌──────────┐\n",
       "│ hodnota  │\n",
       "│ ---      │\n",
       "│ i64      │\n",
       "╞══════════╡\n",
       "│ 10488891 │\n",
       "└──────────┘"
      ]
     },
     "execution_count": 10,
     "metadata": {},
     "output_type": "execute_result"
    }
   ],
   "source": [
    "df.filter(\n",
    "    pl.col('stapro_kod') == 2406\n",
    "    ).select(\n",
    "        ['ID', 'hodnota', 'rok', 'stapro_kod', 'stapro_txt']\n",
    "    ).filter(\n",
    "        pl.col(\"rok\") == pl.max(\"rok\")\n",
    "    ).sum().select('hodnota')"
   ]
  },
  {
   "cell_type": "markdown",
   "metadata": {},
   "source": [
    "To už dává smysl."
   ]
  },
  {
   "cell_type": "markdown",
   "metadata": {},
   "source": [
    "## Joiny, agregace"
   ]
  },
  {
   "cell_type": "markdown",
   "metadata": {},
   "source": [
    "Jsou 2 mírně pokročilé koncepty, které jsou ale extrémně schopné.\n",
    "\n",
    "Předchozí funguje, ale je to hodně kódu, to samé jde jednoduššeji, aniž bych cokoli dělal opakovaně.\n",
    "\n",
    "Vyhledám si pro každý řádek všechny řádky z původního dataframu se stejným id, a dostanu společně všechny informace z obou dataframů."
   ]
  },
  {
   "cell_type": "code",
   "execution_count": 11,
   "metadata": {},
   "outputs": [
    {
     "data": {
      "text/html": [
       "<div><style>\n",
       ".dataframe > thead > tr,\n",
       ".dataframe > tbody > tr {\n",
       "  text-align: right;\n",
       "  white-space: pre-wrap;\n",
       "}\n",
       "</style>\n",
       "<small>shape: (87_539, 10)</small><table border=\"1\" class=\"dataframe\"><thead><tr><th>ID</th><th>hodnota</th><th>stapro_kod</th><th>stapro_txt</th><th>hodnota_right</th><th>stapro_kod_right</th><th>stapro_txt_right</th><th>datum</th><th>rok</th><th>obec_id</th></tr><tr><td>i64</td><td>i64</td><td>i64</td><td>str</td><td>i64</td><td>i64</td><td>str</td><td>str</td><td>i64</td><td>i64</td></tr></thead><tbody><tr><td>808433980</td><td>1148</td><td>2406</td><td>&quot;Počet obyvatel s trvalým nebo …</td><td>1148</td><td>2406</td><td>&quot;Počet obyvatel s trvalým nebo …</td><td>&quot;2011-03-26&quot;</td><td>2011</td><td>594881</td></tr><tr><td>808433981</td><td>659</td><td>2406</td><td>&quot;Počet obyvatel s trvalým nebo …</td><td>659</td><td>2406</td><td>&quot;Počet obyvatel s trvalým nebo …</td><td>&quot;2011-03-26&quot;</td><td>2011</td><td>594890</td></tr><tr><td>808433982</td><td>621</td><td>2406</td><td>&quot;Počet obyvatel s trvalým nebo …</td><td>621</td><td>2406</td><td>&quot;Počet obyvatel s trvalým nebo …</td><td>&quot;2011-03-26&quot;</td><td>2011</td><td>594911</td></tr><tr><td>808433983</td><td>1340</td><td>2406</td><td>&quot;Počet obyvatel s trvalým nebo …</td><td>1340</td><td>2406</td><td>&quot;Počet obyvatel s trvalým nebo …</td><td>&quot;2011-03-26&quot;</td><td>2011</td><td>594920</td></tr><tr><td>808433985</td><td>533</td><td>2406</td><td>&quot;Počet obyvatel s trvalým nebo …</td><td>533</td><td>2406</td><td>&quot;Počet obyvatel s trvalým nebo …</td><td>&quot;2011-03-26&quot;</td><td>2011</td><td>594946</td></tr><tr><td>&hellip;</td><td>&hellip;</td><td>&hellip;</td><td>&hellip;</td><td>&hellip;</td><td>&hellip;</td><td>&hellip;</td><td>&hellip;</td><td>&hellip;</td><td>&hellip;</td></tr><tr><td>741872565</td><td>958</td><td>2406</td><td>&quot;Počet obyvatel s trvalým nebo …</td><td>958</td><td>2406</td><td>&quot;Počet obyvatel s trvalým nebo …</td><td>&quot;1890-12-31&quot;</td><td>1890</td><td>569666</td></tr><tr><td>741872579</td><td>1491</td><td>2406</td><td>&quot;Počet obyvatel s trvalým nebo …</td><td>1491</td><td>2406</td><td>&quot;Počet obyvatel s trvalým nebo …</td><td>&quot;1890-12-31&quot;</td><td>1890</td><td>599409</td></tr><tr><td>741872593</td><td>556</td><td>2406</td><td>&quot;Počet obyvatel s trvalým nebo …</td><td>556</td><td>2406</td><td>&quot;Počet obyvatel s trvalým nebo …</td><td>&quot;1890-12-31&quot;</td><td>1890</td><td>568511</td></tr><tr><td>741872607</td><td>2271</td><td>2406</td><td>&quot;Počet obyvatel s trvalým nebo …</td><td>2271</td><td>2406</td><td>&quot;Počet obyvatel s trvalým nebo …</td><td>&quot;1890-12-31&quot;</td><td>1890</td><td>599468</td></tr><tr><td>741872621</td><td>2159</td><td>2406</td><td>&quot;Počet obyvatel s trvalým nebo …</td><td>2159</td><td>2406</td><td>&quot;Počet obyvatel s trvalým nebo …</td><td>&quot;1890-12-31&quot;</td><td>1890</td><td>568546</td></tr></tbody></table></div>"
      ],
      "text/plain": [
       "shape: (87_539, 10)\n",
       "┌───────────┬─────────┬────────────┬──────────────┬───┬──────────────┬────────────┬──────┬─────────┐\n",
       "│ ID        ┆ hodnota ┆ stapro_kod ┆ stapro_txt   ┆ … ┆ stapro_txt_r ┆ datum      ┆ rok  ┆ obec_id │\n",
       "│ ---       ┆ ---     ┆ ---        ┆ ---          ┆   ┆ ight         ┆ ---        ┆ ---  ┆ ---     │\n",
       "│ i64       ┆ i64     ┆ i64        ┆ str          ┆   ┆ ---          ┆ str        ┆ i64  ┆ i64     │\n",
       "│           ┆         ┆            ┆              ┆   ┆ str          ┆            ┆      ┆         │\n",
       "╞═══════════╪═════════╪════════════╪══════════════╪═══╪══════════════╪════════════╪══════╪═════════╡\n",
       "│ 808433980 ┆ 1148    ┆ 2406       ┆ Počet        ┆ … ┆ Počet        ┆ 2011-03-26 ┆ 2011 ┆ 594881  │\n",
       "│           ┆         ┆            ┆ obyvatel s   ┆   ┆ obyvatel s   ┆            ┆      ┆         │\n",
       "│           ┆         ┆            ┆ trvalým nebo ┆   ┆ trvalým nebo ┆            ┆      ┆         │\n",
       "│           ┆         ┆            ┆ …            ┆   ┆ …            ┆            ┆      ┆         │\n",
       "│ 808433981 ┆ 659     ┆ 2406       ┆ Počet        ┆ … ┆ Počet        ┆ 2011-03-26 ┆ 2011 ┆ 594890  │\n",
       "│           ┆         ┆            ┆ obyvatel s   ┆   ┆ obyvatel s   ┆            ┆      ┆         │\n",
       "│           ┆         ┆            ┆ trvalým nebo ┆   ┆ trvalým nebo ┆            ┆      ┆         │\n",
       "│           ┆         ┆            ┆ …            ┆   ┆ …            ┆            ┆      ┆         │\n",
       "│ 808433982 ┆ 621     ┆ 2406       ┆ Počet        ┆ … ┆ Počet        ┆ 2011-03-26 ┆ 2011 ┆ 594911  │\n",
       "│           ┆         ┆            ┆ obyvatel s   ┆   ┆ obyvatel s   ┆            ┆      ┆         │\n",
       "│           ┆         ┆            ┆ trvalým nebo ┆   ┆ trvalým nebo ┆            ┆      ┆         │\n",
       "│           ┆         ┆            ┆ …            ┆   ┆ …            ┆            ┆      ┆         │\n",
       "│ 808433983 ┆ 1340    ┆ 2406       ┆ Počet        ┆ … ┆ Počet        ┆ 2011-03-26 ┆ 2011 ┆ 594920  │\n",
       "│           ┆         ┆            ┆ obyvatel s   ┆   ┆ obyvatel s   ┆            ┆      ┆         │\n",
       "│           ┆         ┆            ┆ trvalým nebo ┆   ┆ trvalým nebo ┆            ┆      ┆         │\n",
       "│           ┆         ┆            ┆ …            ┆   ┆ …            ┆            ┆      ┆         │\n",
       "│ 808433985 ┆ 533     ┆ 2406       ┆ Počet        ┆ … ┆ Počet        ┆ 2011-03-26 ┆ 2011 ┆ 594946  │\n",
       "│           ┆         ┆            ┆ obyvatel s   ┆   ┆ obyvatel s   ┆            ┆      ┆         │\n",
       "│           ┆         ┆            ┆ trvalým nebo ┆   ┆ trvalým nebo ┆            ┆      ┆         │\n",
       "│           ┆         ┆            ┆ …            ┆   ┆ …            ┆            ┆      ┆         │\n",
       "│ …         ┆ …       ┆ …          ┆ …            ┆ … ┆ …            ┆ …          ┆ …    ┆ …       │\n",
       "│ 741872565 ┆ 958     ┆ 2406       ┆ Počet        ┆ … ┆ Počet        ┆ 1890-12-31 ┆ 1890 ┆ 569666  │\n",
       "│           ┆         ┆            ┆ obyvatel s   ┆   ┆ obyvatel s   ┆            ┆      ┆         │\n",
       "│           ┆         ┆            ┆ trvalým nebo ┆   ┆ trvalým nebo ┆            ┆      ┆         │\n",
       "│           ┆         ┆            ┆ …            ┆   ┆ …            ┆            ┆      ┆         │\n",
       "│ 741872579 ┆ 1491    ┆ 2406       ┆ Počet        ┆ … ┆ Počet        ┆ 1890-12-31 ┆ 1890 ┆ 599409  │\n",
       "│           ┆         ┆            ┆ obyvatel s   ┆   ┆ obyvatel s   ┆            ┆      ┆         │\n",
       "│           ┆         ┆            ┆ trvalým nebo ┆   ┆ trvalým nebo ┆            ┆      ┆         │\n",
       "│           ┆         ┆            ┆ …            ┆   ┆ …            ┆            ┆      ┆         │\n",
       "│ 741872593 ┆ 556     ┆ 2406       ┆ Počet        ┆ … ┆ Počet        ┆ 1890-12-31 ┆ 1890 ┆ 568511  │\n",
       "│           ┆         ┆            ┆ obyvatel s   ┆   ┆ obyvatel s   ┆            ┆      ┆         │\n",
       "│           ┆         ┆            ┆ trvalým nebo ┆   ┆ trvalým nebo ┆            ┆      ┆         │\n",
       "│           ┆         ┆            ┆ …            ┆   ┆ …            ┆            ┆      ┆         │\n",
       "│ 741872607 ┆ 2271    ┆ 2406       ┆ Počet        ┆ … ┆ Počet        ┆ 1890-12-31 ┆ 1890 ┆ 599468  │\n",
       "│           ┆         ┆            ┆ obyvatel s   ┆   ┆ obyvatel s   ┆            ┆      ┆         │\n",
       "│           ┆         ┆            ┆ trvalým nebo ┆   ┆ trvalým nebo ┆            ┆      ┆         │\n",
       "│           ┆         ┆            ┆ …            ┆   ┆ …            ┆            ┆      ┆         │\n",
       "│ 741872621 ┆ 2159    ┆ 2406       ┆ Počet        ┆ … ┆ Počet        ┆ 1890-12-31 ┆ 1890 ┆ 568546  │\n",
       "│           ┆         ┆            ┆ obyvatel s   ┆   ┆ obyvatel s   ┆            ┆      ┆         │\n",
       "│           ┆         ┆            ┆ trvalým nebo ┆   ┆ trvalým nebo ┆            ┆      ┆         │\n",
       "│           ┆         ┆            ┆ …            ┆   ┆ …            ┆            ┆      ┆         │\n",
       "└───────────┴─────────┴────────────┴──────────────┴───┴──────────────┴────────────┴──────┴─────────┘"
      ]
     },
     "execution_count": 11,
     "metadata": {},
     "output_type": "execute_result"
    }
   ],
   "source": [
    "df_zpetne_vybrane = df_vybrane_radky.join(df, on='ID', how='left')\n",
    "df_zpetne_vybrane"
   ]
  },
  {
   "cell_type": "markdown",
   "metadata": {},
   "source": [
    "To je hromada informací. Ale spojovaná tabulka nemusí být ta původní, klidně si vezmu jen ty 2 sloupce, které mě zajímají."
   ]
  },
  {
   "cell_type": "code",
   "execution_count": 12,
   "metadata": {},
   "outputs": [
    {
     "data": {
      "text/html": [
       "<div><style>\n",
       ".dataframe > thead > tr,\n",
       ".dataframe > tbody > tr {\n",
       "  text-align: right;\n",
       "  white-space: pre-wrap;\n",
       "}\n",
       "</style>\n",
       "<small>shape: (87_539, 6)</small><table border=\"1\" class=\"dataframe\"><thead><tr><th>ID</th><th>hodnota</th><th>stapro_kod</th><th>stapro_txt</th><th>rok</th><th>obec_id</th></tr><tr><td>i64</td><td>i64</td><td>i64</td><td>str</td><td>i64</td><td>i64</td></tr></thead><tbody><tr><td>808433980</td><td>1148</td><td>2406</td><td>&quot;Počet obyvatel s trvalým nebo …</td><td>2011</td><td>594881</td></tr><tr><td>808433981</td><td>659</td><td>2406</td><td>&quot;Počet obyvatel s trvalým nebo …</td><td>2011</td><td>594890</td></tr><tr><td>808433982</td><td>621</td><td>2406</td><td>&quot;Počet obyvatel s trvalým nebo …</td><td>2011</td><td>594911</td></tr><tr><td>808433983</td><td>1340</td><td>2406</td><td>&quot;Počet obyvatel s trvalým nebo …</td><td>2011</td><td>594920</td></tr><tr><td>808433985</td><td>533</td><td>2406</td><td>&quot;Počet obyvatel s trvalým nebo …</td><td>2011</td><td>594946</td></tr><tr><td>&hellip;</td><td>&hellip;</td><td>&hellip;</td><td>&hellip;</td><td>&hellip;</td><td>&hellip;</td></tr><tr><td>741872565</td><td>958</td><td>2406</td><td>&quot;Počet obyvatel s trvalým nebo …</td><td>1890</td><td>569666</td></tr><tr><td>741872579</td><td>1491</td><td>2406</td><td>&quot;Počet obyvatel s trvalým nebo …</td><td>1890</td><td>599409</td></tr><tr><td>741872593</td><td>556</td><td>2406</td><td>&quot;Počet obyvatel s trvalým nebo …</td><td>1890</td><td>568511</td></tr><tr><td>741872607</td><td>2271</td><td>2406</td><td>&quot;Počet obyvatel s trvalým nebo …</td><td>1890</td><td>599468</td></tr><tr><td>741872621</td><td>2159</td><td>2406</td><td>&quot;Počet obyvatel s trvalým nebo …</td><td>1890</td><td>568546</td></tr></tbody></table></div>"
      ],
      "text/plain": [
       "shape: (87_539, 6)\n",
       "┌───────────┬─────────┬────────────┬─────────────────────────────────┬──────┬─────────┐\n",
       "│ ID        ┆ hodnota ┆ stapro_kod ┆ stapro_txt                      ┆ rok  ┆ obec_id │\n",
       "│ ---       ┆ ---     ┆ ---        ┆ ---                             ┆ ---  ┆ ---     │\n",
       "│ i64       ┆ i64     ┆ i64        ┆ str                             ┆ i64  ┆ i64     │\n",
       "╞═══════════╪═════════╪════════════╪═════════════════════════════════╪══════╪═════════╡\n",
       "│ 808433980 ┆ 1148    ┆ 2406       ┆ Počet obyvatel s trvalým nebo … ┆ 2011 ┆ 594881  │\n",
       "│ 808433981 ┆ 659     ┆ 2406       ┆ Počet obyvatel s trvalým nebo … ┆ 2011 ┆ 594890  │\n",
       "│ 808433982 ┆ 621     ┆ 2406       ┆ Počet obyvatel s trvalým nebo … ┆ 2011 ┆ 594911  │\n",
       "│ 808433983 ┆ 1340    ┆ 2406       ┆ Počet obyvatel s trvalým nebo … ┆ 2011 ┆ 594920  │\n",
       "│ 808433985 ┆ 533     ┆ 2406       ┆ Počet obyvatel s trvalým nebo … ┆ 2011 ┆ 594946  │\n",
       "│ …         ┆ …       ┆ …          ┆ …                               ┆ …    ┆ …       │\n",
       "│ 741872565 ┆ 958     ┆ 2406       ┆ Počet obyvatel s trvalým nebo … ┆ 1890 ┆ 569666  │\n",
       "│ 741872579 ┆ 1491    ┆ 2406       ┆ Počet obyvatel s trvalým nebo … ┆ 1890 ┆ 599409  │\n",
       "│ 741872593 ┆ 556     ┆ 2406       ┆ Počet obyvatel s trvalým nebo … ┆ 1890 ┆ 568511  │\n",
       "│ 741872607 ┆ 2271    ┆ 2406       ┆ Počet obyvatel s trvalým nebo … ┆ 1890 ┆ 599468  │\n",
       "│ 741872621 ┆ 2159    ┆ 2406       ┆ Počet obyvatel s trvalým nebo … ┆ 1890 ┆ 568546  │\n",
       "└───────────┴─────────┴────────────┴─────────────────────────────────┴──────┴─────────┘"
      ]
     },
     "execution_count": 12,
     "metadata": {},
     "output_type": "execute_result"
    }
   ],
   "source": [
    "df_co_spojuji = df.select('ID', 'rok', 'obec_id')\n",
    "df_zpetne_vybrane = df_vybrane_radky.join(df_co_spojuji, on='ID', how='left')\n",
    "df_zpetne_vybrane"
   ]
  },
  {
   "cell_type": "markdown",
   "metadata": {},
   "source": [
    "Vlastně můžu spojit úplně cokoli, klidně úplně jinou tabulku, pokud tam budou nějaký sloupec společný."
   ]
  },
  {
   "cell_type": "code",
   "execution_count": 13,
   "metadata": {},
   "outputs": [
    {
     "data": {
      "text/html": [
       "<div><style>\n",
       ".dataframe > thead > tr,\n",
       ".dataframe > tbody > tr {\n",
       "  text-align: right;\n",
       "  white-space: pre-wrap;\n",
       "}\n",
       "</style>\n",
       "<small>shape: (87_539, 13)</small><table border=\"1\" class=\"dataframe\"><thead><tr><th>ID</th><th>hodnota</th><th>stapro_kod</th><th>stapro_txt</th><th>rok</th><th>obec_id</th><th>obec_name</th><th>orp_id</th><th>orp_name</th><th>okres_id</th><th>okres_name</th><th>kraj_id</th><th>kraj_name</th></tr><tr><td>i64</td><td>i64</td><td>i64</td><td>str</td><td>i64</td><td>i64</td><td>str</td><td>i64</td><td>str</td><td>i64</td><td>str</td><td>i64</td><td>str</td></tr></thead><tbody><tr><td>808433980</td><td>1148</td><td>2406</td><td>&quot;Počet obyvatel s trvalým nebo …</td><td>2011</td><td>594881</td><td>&quot;Šatov&quot;</td><td>6220</td><td>&quot;Znojmo&quot;</td><td>3713</td><td>&quot;Znojmo&quot;</td><td>116</td><td>&quot;Jihomoravský kraj&quot;</td></tr><tr><td>808433981</td><td>659</td><td>2406</td><td>&quot;Počet obyvatel s trvalým nebo …</td><td>2011</td><td>594890</td><td>&quot;Štítary&quot;</td><td>6220</td><td>&quot;Znojmo&quot;</td><td>3713</td><td>&quot;Znojmo&quot;</td><td>116</td><td>&quot;Jihomoravský kraj&quot;</td></tr><tr><td>808433982</td><td>621</td><td>2406</td><td>&quot;Počet obyvatel s trvalým nebo …</td><td>2011</td><td>594911</td><td>&quot;Šumná&quot;</td><td>6220</td><td>&quot;Znojmo&quot;</td><td>3713</td><td>&quot;Znojmo&quot;</td><td>116</td><td>&quot;Jihomoravský kraj&quot;</td></tr><tr><td>808433983</td><td>1340</td><td>2406</td><td>&quot;Počet obyvatel s trvalým nebo …</td><td>2011</td><td>594920</td><td>&quot;Tasovice&quot;</td><td>6220</td><td>&quot;Znojmo&quot;</td><td>3713</td><td>&quot;Znojmo&quot;</td><td>116</td><td>&quot;Jihomoravský kraj&quot;</td></tr><tr><td>808433985</td><td>533</td><td>2406</td><td>&quot;Počet obyvatel s trvalým nebo …</td><td>2011</td><td>594946</td><td>&quot;Těšetice&quot;</td><td>6220</td><td>&quot;Znojmo&quot;</td><td>3713</td><td>&quot;Znojmo&quot;</td><td>116</td><td>&quot;Jihomoravský kraj&quot;</td></tr><tr><td>&hellip;</td><td>&hellip;</td><td>&hellip;</td><td>&hellip;</td><td>&hellip;</td><td>&hellip;</td><td>&hellip;</td><td>&hellip;</td><td>&hellip;</td><td>&hellip;</td><td>&hellip;</td><td>&hellip;</td><td>&hellip;</td></tr><tr><td>741872565</td><td>958</td><td>2406</td><td>&quot;Počet obyvatel s trvalým nebo …</td><td>1890</td><td>569666</td><td>&quot;Hladké Životice&quot;</td><td>8115</td><td>&quot;Nový Jičín&quot;</td><td>3804</td><td>&quot;Nový Jičín&quot;</td><td>132</td><td>&quot;Moravskoslezský kraj&quot;</td></tr><tr><td>741872579</td><td>1491</td><td>2406</td><td>&quot;Počet obyvatel s trvalým nebo …</td><td>1890</td><td>599409</td><td>&quot;Hodslavice&quot;</td><td>8115</td><td>&quot;Nový Jičín&quot;</td><td>3804</td><td>&quot;Nový Jičín&quot;</td><td>132</td><td>&quot;Moravskoslezský kraj&quot;</td></tr><tr><td>741872593</td><td>556</td><td>2406</td><td>&quot;Počet obyvatel s trvalým nebo …</td><td>1890</td><td>568511</td><td>&quot;Hostašovice&quot;</td><td>8115</td><td>&quot;Nový Jičín&quot;</td><td>3804</td><td>&quot;Nový Jičín&quot;</td><td>132</td><td>&quot;Moravskoslezský kraj&quot;</td></tr><tr><td>741872607</td><td>2271</td><td>2406</td><td>&quot;Počet obyvatel s trvalým nebo …</td><td>1890</td><td>599468</td><td>&quot;Jeseník nad Odrou&quot;</td><td>8115</td><td>&quot;Nový Jičín&quot;</td><td>3804</td><td>&quot;Nový Jičín&quot;</td><td>132</td><td>&quot;Moravskoslezský kraj&quot;</td></tr><tr><td>741872621</td><td>2159</td><td>2406</td><td>&quot;Počet obyvatel s trvalým nebo …</td><td>1890</td><td>568546</td><td>&quot;Kunín&quot;</td><td>8115</td><td>&quot;Nový Jičín&quot;</td><td>3804</td><td>&quot;Nový Jičín&quot;</td><td>132</td><td>&quot;Moravskoslezský kraj&quot;</td></tr></tbody></table></div>"
      ],
      "text/plain": [
       "shape: (87_539, 13)\n",
       "┌───────────┬─────────┬────────────┬────────────┬───┬──────────┬────────────┬─────────┬────────────┐\n",
       "│ ID        ┆ hodnota ┆ stapro_kod ┆ stapro_txt ┆ … ┆ okres_id ┆ okres_name ┆ kraj_id ┆ kraj_name  │\n",
       "│ ---       ┆ ---     ┆ ---        ┆ ---        ┆   ┆ ---      ┆ ---        ┆ ---     ┆ ---        │\n",
       "│ i64       ┆ i64     ┆ i64        ┆ str        ┆   ┆ i64      ┆ str        ┆ i64     ┆ str        │\n",
       "╞═══════════╪═════════╪════════════╪════════════╪═══╪══════════╪════════════╪═════════╪════════════╡\n",
       "│ 808433980 ┆ 1148    ┆ 2406       ┆ Počet      ┆ … ┆ 3713     ┆ Znojmo     ┆ 116     ┆ Jihomoravs │\n",
       "│           ┆         ┆            ┆ obyvatel s ┆   ┆          ┆            ┆         ┆ ký kraj    │\n",
       "│           ┆         ┆            ┆ trvalým    ┆   ┆          ┆            ┆         ┆            │\n",
       "│           ┆         ┆            ┆ nebo …     ┆   ┆          ┆            ┆         ┆            │\n",
       "│ 808433981 ┆ 659     ┆ 2406       ┆ Počet      ┆ … ┆ 3713     ┆ Znojmo     ┆ 116     ┆ Jihomoravs │\n",
       "│           ┆         ┆            ┆ obyvatel s ┆   ┆          ┆            ┆         ┆ ký kraj    │\n",
       "│           ┆         ┆            ┆ trvalým    ┆   ┆          ┆            ┆         ┆            │\n",
       "│           ┆         ┆            ┆ nebo …     ┆   ┆          ┆            ┆         ┆            │\n",
       "│ 808433982 ┆ 621     ┆ 2406       ┆ Počet      ┆ … ┆ 3713     ┆ Znojmo     ┆ 116     ┆ Jihomoravs │\n",
       "│           ┆         ┆            ┆ obyvatel s ┆   ┆          ┆            ┆         ┆ ký kraj    │\n",
       "│           ┆         ┆            ┆ trvalým    ┆   ┆          ┆            ┆         ┆            │\n",
       "│           ┆         ┆            ┆ nebo …     ┆   ┆          ┆            ┆         ┆            │\n",
       "│ 808433983 ┆ 1340    ┆ 2406       ┆ Počet      ┆ … ┆ 3713     ┆ Znojmo     ┆ 116     ┆ Jihomoravs │\n",
       "│           ┆         ┆            ┆ obyvatel s ┆   ┆          ┆            ┆         ┆ ký kraj    │\n",
       "│           ┆         ┆            ┆ trvalým    ┆   ┆          ┆            ┆         ┆            │\n",
       "│           ┆         ┆            ┆ nebo …     ┆   ┆          ┆            ┆         ┆            │\n",
       "│ 808433985 ┆ 533     ┆ 2406       ┆ Počet      ┆ … ┆ 3713     ┆ Znojmo     ┆ 116     ┆ Jihomoravs │\n",
       "│           ┆         ┆            ┆ obyvatel s ┆   ┆          ┆            ┆         ┆ ký kraj    │\n",
       "│           ┆         ┆            ┆ trvalým    ┆   ┆          ┆            ┆         ┆            │\n",
       "│           ┆         ┆            ┆ nebo …     ┆   ┆          ┆            ┆         ┆            │\n",
       "│ …         ┆ …       ┆ …          ┆ …          ┆ … ┆ …        ┆ …          ┆ …       ┆ …          │\n",
       "│ 741872565 ┆ 958     ┆ 2406       ┆ Počet      ┆ … ┆ 3804     ┆ Nový Jičín ┆ 132     ┆ Moravskosl │\n",
       "│           ┆         ┆            ┆ obyvatel s ┆   ┆          ┆            ┆         ┆ ezský kraj │\n",
       "│           ┆         ┆            ┆ trvalým    ┆   ┆          ┆            ┆         ┆            │\n",
       "│           ┆         ┆            ┆ nebo …     ┆   ┆          ┆            ┆         ┆            │\n",
       "│ 741872579 ┆ 1491    ┆ 2406       ┆ Počet      ┆ … ┆ 3804     ┆ Nový Jičín ┆ 132     ┆ Moravskosl │\n",
       "│           ┆         ┆            ┆ obyvatel s ┆   ┆          ┆            ┆         ┆ ezský kraj │\n",
       "│           ┆         ┆            ┆ trvalým    ┆   ┆          ┆            ┆         ┆            │\n",
       "│           ┆         ┆            ┆ nebo …     ┆   ┆          ┆            ┆         ┆            │\n",
       "│ 741872593 ┆ 556     ┆ 2406       ┆ Počet      ┆ … ┆ 3804     ┆ Nový Jičín ┆ 132     ┆ Moravskosl │\n",
       "│           ┆         ┆            ┆ obyvatel s ┆   ┆          ┆            ┆         ┆ ezský kraj │\n",
       "│           ┆         ┆            ┆ trvalým    ┆   ┆          ┆            ┆         ┆            │\n",
       "│           ┆         ┆            ┆ nebo …     ┆   ┆          ┆            ┆         ┆            │\n",
       "│ 741872607 ┆ 2271    ┆ 2406       ┆ Počet      ┆ … ┆ 3804     ┆ Nový Jičín ┆ 132     ┆ Moravskosl │\n",
       "│           ┆         ┆            ┆ obyvatel s ┆   ┆          ┆            ┆         ┆ ezský kraj │\n",
       "│           ┆         ┆            ┆ trvalým    ┆   ┆          ┆            ┆         ┆            │\n",
       "│           ┆         ┆            ┆ nebo …     ┆   ┆          ┆            ┆         ┆            │\n",
       "│ 741872621 ┆ 2159    ┆ 2406       ┆ Počet      ┆ … ┆ 3804     ┆ Nový Jičín ┆ 132     ┆ Moravskosl │\n",
       "│           ┆         ┆            ┆ obyvatel s ┆   ┆          ┆            ┆         ┆ ezský kraj │\n",
       "│           ┆         ┆            ┆ trvalým    ┆   ┆          ┆            ┆         ┆            │\n",
       "│           ┆         ┆            ┆ nebo …     ┆   ┆          ┆            ┆         ┆            │\n",
       "└───────────┴─────────┴────────────┴────────────┴───┴──────────┴────────────┴─────────┴────────────┘"
      ]
     },
     "execution_count": 13,
     "metadata": {},
     "output_type": "execute_result"
    }
   ],
   "source": [
    "df_ciselnik_mist = pl.read_csv('ciselnik.csv')\n",
    "df_s_mistem = df_zpetne_vybrane.join(df_ciselnik_mist, on='obec_id', how='left')\n",
    "df_s_mistem"
   ]
  },
  {
   "cell_type": "markdown",
   "metadata": {},
   "source": [
    "BOOM! Najednou mám u každého řádku kód obce, kraje, orp a okresu. Na základě toho si můžu data třeba nakreslit do mapy.\n",
    "\n",
    "[Tady je UKÁZKA JAK SE TO DĚLÁ](https://github.com/MFVS/AVD3)"
   ]
  },
  {
   "cell_type": "markdown",
   "metadata": {},
   "source": [
    "### Ukázka zručného zacházení s agregacemi\n",
    "\n",
    "Před agregací můžu nastavit, že chci data seskupit podle roku."
   ]
  },
  {
   "cell_type": "code",
   "execution_count": 14,
   "metadata": {},
   "outputs": [],
   "source": [
    "mala_agregace = df_zpetne_vybrane.group_by('rok').agg(\n",
    "    pl.sum('hodnota')\n",
    ")"
   ]
  },
  {
   "cell_type": "code",
   "execution_count": 15,
   "metadata": {},
   "outputs": [
    {
     "data": {
      "text/html": [
       "<div><style>\n",
       ".dataframe > thead > tr,\n",
       ".dataframe > tbody > tr {\n",
       "  text-align: right;\n",
       "  white-space: pre-wrap;\n",
       "}\n",
       "</style>\n",
       "<small>shape: (14, 2)</small><table border=\"1\" class=\"dataframe\"><thead><tr><th>rok</th><th>hodnota</th></tr><tr><td>i64</td><td>i64</td></tr></thead><tbody><tr><td>1869</td><td>7565463</td></tr><tr><td>1880</td><td>8223227</td></tr><tr><td>1890</td><td>8666456</td></tr><tr><td>1900</td><td>9374028</td></tr><tr><td>1910</td><td>10076727</td></tr><tr><td>&hellip;</td><td>&hellip;</td></tr><tr><td>1970</td><td>9807697</td></tr><tr><td>1980</td><td>10291927</td></tr><tr><td>1991</td><td>10302215</td></tr><tr><td>2001</td><td>10230060</td></tr><tr><td>2011</td><td>10488891</td></tr></tbody></table></div>"
      ],
      "text/plain": [
       "shape: (14, 2)\n",
       "┌──────┬──────────┐\n",
       "│ rok  ┆ hodnota  │\n",
       "│ ---  ┆ ---      │\n",
       "│ i64  ┆ i64      │\n",
       "╞══════╪══════════╡\n",
       "│ 1869 ┆ 7565463  │\n",
       "│ 1880 ┆ 8223227  │\n",
       "│ 1890 ┆ 8666456  │\n",
       "│ 1900 ┆ 9374028  │\n",
       "│ 1910 ┆ 10076727 │\n",
       "│ …    ┆ …        │\n",
       "│ 1970 ┆ 9807697  │\n",
       "│ 1980 ┆ 10291927 │\n",
       "│ 1991 ┆ 10302215 │\n",
       "│ 2001 ┆ 10230060 │\n",
       "│ 2011 ┆ 10488891 │\n",
       "└──────┴──────────┘"
      ]
     },
     "execution_count": 15,
     "metadata": {},
     "output_type": "execute_result"
    }
   ],
   "source": [
    "mala_agregace.sort('rok')"
   ]
  },
  {
   "cell_type": "markdown",
   "metadata": {},
   "source": [
    "Mám počty obyvatel, rovnou za každý rok\n",
    "\n",
    "Stejně jednoduše jde seskupit podle města..."
   ]
  },
  {
   "cell_type": "code",
   "execution_count": 16,
   "metadata": {},
   "outputs": [
    {
     "data": {
      "text/html": [
       "<div><style>\n",
       ".dataframe > thead > tr,\n",
       ".dataframe > tbody > tr {\n",
       "  text-align: right;\n",
       "  white-space: pre-wrap;\n",
       "}\n",
       "</style>\n",
       "<small>shape: (87_539, 4)</small><table border=\"1\" class=\"dataframe\"><thead><tr><th>rok</th><th>obec_id</th><th>hodnota</th><th>obec_name</th></tr><tr><td>i64</td><td>i64</td><td>i64</td><td>str</td></tr></thead><tbody><tr><td>2011</td><td>560278</td><td>217</td><td>&quot;Mutěnice&quot;</td></tr><tr><td>1869</td><td>579696</td><td>1804</td><td>&quot;Strážné&quot;</td></tr><tr><td>1970</td><td>562181</td><td>223</td><td>&quot;Křenovice&quot;</td></tr><tr><td>1900</td><td>533629</td><td>1003</td><td>&quot;Radim&quot;</td></tr><tr><td>1970</td><td>576166</td><td>317</td><td>&quot;Bystré&quot;</td></tr><tr><td>&hellip;</td><td>&hellip;</td><td>&hellip;</td><td>&hellip;</td></tr><tr><td>1890</td><td>553212</td><td>360</td><td>&quot;Janoušov&quot;</td></tr><tr><td>1900</td><td>584703</td><td>746</td><td>&quot;Němčičky&quot;</td></tr><tr><td>1880</td><td>533823</td><td>397</td><td>&quot;Veletov&quot;</td></tr><tr><td>2011</td><td>598844</td><td>207</td><td>&quot;Vlastec&quot;</td></tr><tr><td>1970</td><td>544949</td><td>2217</td><td>&quot;Valašská Bystřice&quot;</td></tr></tbody></table></div>"
      ],
      "text/plain": [
       "shape: (87_539, 4)\n",
       "┌──────┬─────────┬─────────┬───────────────────┐\n",
       "│ rok  ┆ obec_id ┆ hodnota ┆ obec_name         │\n",
       "│ ---  ┆ ---     ┆ ---     ┆ ---               │\n",
       "│ i64  ┆ i64     ┆ i64     ┆ str               │\n",
       "╞══════╪═════════╪═════════╪═══════════════════╡\n",
       "│ 2011 ┆ 560278  ┆ 217     ┆ Mutěnice          │\n",
       "│ 1869 ┆ 579696  ┆ 1804    ┆ Strážné           │\n",
       "│ 1970 ┆ 562181  ┆ 223     ┆ Křenovice         │\n",
       "│ 1900 ┆ 533629  ┆ 1003    ┆ Radim             │\n",
       "│ 1970 ┆ 576166  ┆ 317     ┆ Bystré            │\n",
       "│ …    ┆ …       ┆ …       ┆ …                 │\n",
       "│ 1890 ┆ 553212  ┆ 360     ┆ Janoušov          │\n",
       "│ 1900 ┆ 584703  ┆ 746     ┆ Němčičky          │\n",
       "│ 1880 ┆ 533823  ┆ 397     ┆ Veletov           │\n",
       "│ 2011 ┆ 598844  ┆ 207     ┆ Vlastec           │\n",
       "│ 1970 ┆ 544949  ┆ 2217    ┆ Valašská Bystřice │\n",
       "└──────┴─────────┴─────────┴───────────────────┘"
      ]
     },
     "execution_count": 16,
     "metadata": {},
     "output_type": "execute_result"
    }
   ],
   "source": [
    "velka_agregace = df_s_mistem.group_by('rok', 'obec_id').agg(pl.col('hodnota').sum(), pl.col('obec_name').first())\n",
    "velka_agregace"
   ]
  },
  {
   "cell_type": "markdown",
   "metadata": {},
   "source": [
    "A z nich vybrat údaje pro ústí"
   ]
  },
  {
   "cell_type": "code",
   "execution_count": 17,
   "metadata": {},
   "outputs": [
    {
     "data": {
      "text/plain": [
       "[554804]"
      ]
     },
     "execution_count": 17,
     "metadata": {},
     "output_type": "execute_result"
    }
   ],
   "source": [
    "zaznamy_pro_usti = velka_agregace.filter(pl.col('obec_name') == 'Ústí nad Labem')\n",
    "id_obce_usti = zaznamy_pro_usti.select('obec_id').unique().to_series().to_list()\n",
    "id_obce_usti"
   ]
  },
  {
   "cell_type": "code",
   "execution_count": 18,
   "metadata": {},
   "outputs": [
    {
     "data": {
      "text/html": [
       "<div><style>\n",
       ".dataframe > thead > tr,\n",
       ".dataframe > tbody > tr {\n",
       "  text-align: right;\n",
       "  white-space: pre-wrap;\n",
       "}\n",
       "</style>\n",
       "<small>shape: (14, 4)</small><table border=\"1\" class=\"dataframe\"><thead><tr><th>rok</th><th>obec_id</th><th>hodnota</th><th>obec_name</th></tr><tr><td>i64</td><td>i64</td><td>i64</td><td>str</td></tr></thead><tbody><tr><td>1869</td><td>554804</td><td>20284</td><td>&quot;Ústí nad Labem&quot;</td></tr><tr><td>1880</td><td>554804</td><td>27834</td><td>&quot;Ústí nad Labem&quot;</td></tr><tr><td>1890</td><td>554804</td><td>40796</td><td>&quot;Ústí nad Labem&quot;</td></tr><tr><td>1900</td><td>554804</td><td>57330</td><td>&quot;Ústí nad Labem&quot;</td></tr><tr><td>1910</td><td>554804</td><td>68313</td><td>&quot;Ústí nad Labem&quot;</td></tr><tr><td>&hellip;</td><td>&hellip;</td><td>&hellip;</td><td>&hellip;</td></tr><tr><td>1970</td><td>554804</td><td>79544</td><td>&quot;Ústí nad Labem&quot;</td></tr><tr><td>1980</td><td>554804</td><td>89272</td><td>&quot;Ústí nad Labem&quot;</td></tr><tr><td>1991</td><td>554804</td><td>98178</td><td>&quot;Ústí nad Labem&quot;</td></tr><tr><td>2001</td><td>554804</td><td>95436</td><td>&quot;Ústí nad Labem&quot;</td></tr><tr><td>2011</td><td>554804</td><td>94793</td><td>&quot;Ústí nad Labem&quot;</td></tr></tbody></table></div>"
      ],
      "text/plain": [
       "shape: (14, 4)\n",
       "┌──────┬─────────┬─────────┬────────────────┐\n",
       "│ rok  ┆ obec_id ┆ hodnota ┆ obec_name      │\n",
       "│ ---  ┆ ---     ┆ ---     ┆ ---            │\n",
       "│ i64  ┆ i64     ┆ i64     ┆ str            │\n",
       "╞══════╪═════════╪═════════╪════════════════╡\n",
       "│ 1869 ┆ 554804  ┆ 20284   ┆ Ústí nad Labem │\n",
       "│ 1880 ┆ 554804  ┆ 27834   ┆ Ústí nad Labem │\n",
       "│ 1890 ┆ 554804  ┆ 40796   ┆ Ústí nad Labem │\n",
       "│ 1900 ┆ 554804  ┆ 57330   ┆ Ústí nad Labem │\n",
       "│ 1910 ┆ 554804  ┆ 68313   ┆ Ústí nad Labem │\n",
       "│ …    ┆ …       ┆ …       ┆ …              │\n",
       "│ 1970 ┆ 554804  ┆ 79544   ┆ Ústí nad Labem │\n",
       "│ 1980 ┆ 554804  ┆ 89272   ┆ Ústí nad Labem │\n",
       "│ 1991 ┆ 554804  ┆ 98178   ┆ Ústí nad Labem │\n",
       "│ 2001 ┆ 554804  ┆ 95436   ┆ Ústí nad Labem │\n",
       "│ 2011 ┆ 554804  ┆ 94793   ┆ Ústí nad Labem │\n",
       "└──────┴─────────┴─────────┴────────────────┘"
      ]
     },
     "execution_count": 18,
     "metadata": {},
     "output_type": "execute_result"
    }
   ],
   "source": [
    "agregace_usti = velka_agregace.filter(pl.col('obec_id').is_in(id_obce_usti)).sort('rok')\n",
    "agregace_usti"
   ]
  },
  {
   "cell_type": "markdown",
   "metadata": {},
   "source": [
    "> K ZAMYŠLENÍ: Představte si, kolik by tohle bylo práce pouze s použitím `select`, `filter` a `sum`."
   ]
  },
  {
   "cell_type": "markdown",
   "metadata": {},
   "source": [
    "## Vizualizace dat\n",
    "\n",
    "Nejdůležitější aspekt analýzy dat je způsob jejich prezentace.\n",
    "\n",
    "Často použité knihovny pro tento účel jsou `plotly`, `folium`, `matplotlib`, a my zde použijeme `pyecharts`, protože se mi líbí.\n",
    "\n",
    "Zde je [dokumentace](https://gallery.pyecharts.org/#/README_EN?id=project-introduction)."
   ]
  },
  {
   "cell_type": "code",
   "execution_count": 39,
   "metadata": {},
   "outputs": [],
   "source": [
    "import pyecharts as pe\n",
    "from pyecharts import options as opts\n",
    "import numpy as np"
   ]
  },
  {
   "cell_type": "code",
   "execution_count": 56,
   "metadata": {},
   "outputs": [
    {
     "data": {
      "text/html": [
       "\n",
       "<script>\n",
       "    require.config({\n",
       "        paths: {\n",
       "            'echarts':'https://assets.pyecharts.org/assets/v5/echarts.min', 'chalk':'https://assets.pyecharts.org/assets/v5/themes/chalk'\n",
       "        }\n",
       "    });\n",
       "</script>\n",
       "\n",
       "        <div id=\"9d87d7d7222a463889413d80d3b3734c\" style=\"width:900px; height:500px;\"></div>\n",
       "\n",
       "<script>\n",
       "        require(['echarts', 'chalk'], function(echarts) {\n",
       "                var chart_9d87d7d7222a463889413d80d3b3734c = echarts.init(\n",
       "                    document.getElementById('9d87d7d7222a463889413d80d3b3734c'), 'chalk', {renderer: 'canvas'});\n",
       "                var option_9d87d7d7222a463889413d80d3b3734c = {\n",
       "    \"backgroundColor\": \"#FFFFFF\",\n",
       "    \"animation\": true,\n",
       "    \"animationThreshold\": 2000,\n",
       "    \"animationDuration\": 1000,\n",
       "    \"animationEasing\": \"cubicOut\",\n",
       "    \"animationDelay\": 0,\n",
       "    \"animationDurationUpdate\": 300,\n",
       "    \"animationEasingUpdate\": \"cubicOut\",\n",
       "    \"animationDelayUpdate\": 0,\n",
       "    \"aria\": {\n",
       "        \"enabled\": false\n",
       "    },\n",
       "    \"series\": [\n",
       "        {\n",
       "            \"type\": \"bar\",\n",
       "            \"name\": \"Po\\u010det obyvatel\",\n",
       "            \"legendHoverLink\": true,\n",
       "            \"data\": [\n",
       "                8223227,\n",
       "                8666456,\n",
       "                9571531,\n",
       "                10302215,\n",
       "                9374028,\n",
       "                10488891,\n",
       "                7565463,\n",
       "                10674240,\n",
       "                10009480,\n",
       "                8896086,\n",
       "                9807697,\n",
       "                10076727,\n",
       "                10291927,\n",
       "                10230060\n",
       "            ],\n",
       "            \"realtimeSort\": false,\n",
       "            \"showBackground\": false,\n",
       "            \"stack\": \"stack1\",\n",
       "            \"stackStrategy\": \"samesign\",\n",
       "            \"cursor\": \"pointer\",\n",
       "            \"barMinHeight\": 0,\n",
       "            \"barCategoryGap\": \"20%\",\n",
       "            \"barGap\": \"30%\",\n",
       "            \"large\": false,\n",
       "            \"largeThreshold\": 400,\n",
       "            \"seriesLayoutBy\": \"column\",\n",
       "            \"datasetIndex\": 0,\n",
       "            \"clip\": true,\n",
       "            \"zlevel\": 0,\n",
       "            \"z\": 2,\n",
       "            \"label\": {\n",
       "                \"show\": false,\n",
       "                \"margin\": 8\n",
       "            },\n",
       "            \"rippleEffect\": {\n",
       "                \"show\": true,\n",
       "                \"brushType\": \"stroke\",\n",
       "                \"scale\": 2.5,\n",
       "                \"period\": 4\n",
       "            }\n",
       "        },\n",
       "        {\n",
       "            \"type\": \"bar\",\n",
       "            \"name\": \"Po\\u010det obyvatel \\u00dast\\u00ed\",\n",
       "            \"legendHoverLink\": true,\n",
       "            \"data\": [\n",
       "                20284,\n",
       "                27834,\n",
       "                40796,\n",
       "                57330,\n",
       "                68313,\n",
       "                71659,\n",
       "                79644,\n",
       "                64179,\n",
       "                72148,\n",
       "                79544,\n",
       "                89272,\n",
       "                98178,\n",
       "                95436,\n",
       "                94793\n",
       "            ],\n",
       "            \"realtimeSort\": false,\n",
       "            \"showBackground\": false,\n",
       "            \"stack\": \"stack2\",\n",
       "            \"stackStrategy\": \"samesign\",\n",
       "            \"cursor\": \"pointer\",\n",
       "            \"barMinHeight\": 0,\n",
       "            \"barCategoryGap\": \"20%\",\n",
       "            \"barGap\": \"30%\",\n",
       "            \"large\": false,\n",
       "            \"largeThreshold\": 400,\n",
       "            \"seriesLayoutBy\": \"column\",\n",
       "            \"datasetIndex\": 0,\n",
       "            \"clip\": true,\n",
       "            \"zlevel\": 0,\n",
       "            \"z\": 2,\n",
       "            \"label\": {\n",
       "                \"show\": false,\n",
       "                \"margin\": 8\n",
       "            },\n",
       "            \"rippleEffect\": {\n",
       "                \"show\": true,\n",
       "                \"brushType\": \"stroke\",\n",
       "                \"scale\": 2.5,\n",
       "                \"period\": 4\n",
       "            }\n",
       "        }\n",
       "    ],\n",
       "    \"legend\": [\n",
       "        {\n",
       "            \"data\": [\n",
       "                \"Po\\u010det obyvatel\",\n",
       "                \"Po\\u010det obyvatel \\u00dast\\u00ed\"\n",
       "            ],\n",
       "            \"selected\": {},\n",
       "            \"show\": true,\n",
       "            \"padding\": 5,\n",
       "            \"itemGap\": 10,\n",
       "            \"itemWidth\": 25,\n",
       "            \"itemHeight\": 14,\n",
       "            \"backgroundColor\": \"transparent\",\n",
       "            \"borderColor\": \"#ccc\",\n",
       "            \"borderRadius\": 0,\n",
       "            \"pageButtonItemGap\": 5,\n",
       "            \"pageButtonPosition\": \"end\",\n",
       "            \"pageFormatter\": \"{current}/{total}\",\n",
       "            \"pageIconColor\": \"#2f4554\",\n",
       "            \"pageIconInactiveColor\": \"#aaa\",\n",
       "            \"pageIconSize\": 15,\n",
       "            \"animationDurationUpdate\": 800,\n",
       "            \"selector\": false,\n",
       "            \"selectorPosition\": \"auto\",\n",
       "            \"selectorItemGap\": 7,\n",
       "            \"selectorButtonGap\": 10\n",
       "        }\n",
       "    ],\n",
       "    \"tooltip\": {\n",
       "        \"show\": true,\n",
       "        \"trigger\": \"item\",\n",
       "        \"triggerOn\": \"mousemove|click\",\n",
       "        \"axisPointer\": {\n",
       "            \"type\": \"line\"\n",
       "        },\n",
       "        \"showContent\": true,\n",
       "        \"alwaysShowContent\": false,\n",
       "        \"showDelay\": 0,\n",
       "        \"hideDelay\": 100,\n",
       "        \"enterable\": false,\n",
       "        \"confine\": false,\n",
       "        \"appendToBody\": false,\n",
       "        \"transitionDuration\": 0.4,\n",
       "        \"textStyle\": {\n",
       "            \"fontSize\": 14\n",
       "        },\n",
       "        \"borderWidth\": 0,\n",
       "        \"padding\": 5,\n",
       "        \"order\": \"seriesAsc\"\n",
       "    },\n",
       "    \"xAxis\": [\n",
       "        {\n",
       "            \"show\": true,\n",
       "            \"scale\": false,\n",
       "            \"nameLocation\": \"end\",\n",
       "            \"nameGap\": 15,\n",
       "            \"gridIndex\": 0,\n",
       "            \"inverse\": false,\n",
       "            \"offset\": 0,\n",
       "            \"splitNumber\": 5,\n",
       "            \"minInterval\": 0,\n",
       "            \"splitLine\": {\n",
       "                \"show\": true,\n",
       "                \"lineStyle\": {\n",
       "                    \"show\": true,\n",
       "                    \"width\": 1,\n",
       "                    \"opacity\": 1,\n",
       "                    \"curveness\": 0,\n",
       "                    \"type\": \"solid\"\n",
       "                }\n",
       "            },\n",
       "            \"data\": [\n",
       "                1869,\n",
       "                1880,\n",
       "                1890,\n",
       "                1900,\n",
       "                1910,\n",
       "                1921,\n",
       "                1930,\n",
       "                1950,\n",
       "                1961,\n",
       "                1970,\n",
       "                1980,\n",
       "                1991,\n",
       "                2001,\n",
       "                2011\n",
       "            ]\n",
       "        }\n",
       "    ],\n",
       "    \"yAxis\": [\n",
       "        {\n",
       "            \"type\": \"log\",\n",
       "            \"name\": \"y\",\n",
       "            \"show\": true,\n",
       "            \"scale\": true,\n",
       "            \"nameLocation\": \"end\",\n",
       "            \"nameGap\": 15,\n",
       "            \"gridIndex\": 0,\n",
       "            \"inverse\": false,\n",
       "            \"offset\": 0,\n",
       "            \"splitNumber\": 5,\n",
       "            \"minInterval\": 0,\n",
       "            \"splitLine\": {\n",
       "                \"show\": true,\n",
       "                \"lineStyle\": {\n",
       "                    \"show\": true,\n",
       "                    \"width\": 1,\n",
       "                    \"opacity\": 1,\n",
       "                    \"curveness\": 0,\n",
       "                    \"type\": \"solid\"\n",
       "                }\n",
       "            }\n",
       "        }\n",
       "    ],\n",
       "    \"title\": [\n",
       "        {\n",
       "            \"show\": true,\n",
       "            \"text\": \"Po\\u010dty obyvatel v grafech\",\n",
       "            \"target\": \"blank\",\n",
       "            \"subtarget\": \"blank\",\n",
       "            \"padding\": 5,\n",
       "            \"itemGap\": 10,\n",
       "            \"textAlign\": \"auto\",\n",
       "            \"textVerticalAlign\": \"auto\",\n",
       "            \"triggerEvent\": false\n",
       "        }\n",
       "    ]\n",
       "};\n",
       "                chart_9d87d7d7222a463889413d80d3b3734c.setOption(option_9d87d7d7222a463889413d80d3b3734c);\n",
       "        });\n",
       "    </script>\n"
      ],
      "text/plain": [
       "<pyecharts.render.display.HTML at 0x7173a9145180>"
      ]
     },
     "execution_count": 56,
     "metadata": {},
     "output_type": "execute_result"
    }
   ],
   "source": [
    "\n",
    "theme = pe.globals.ThemeType.CHALK\n",
    "bar = pe.charts.Bar(init_opts=opts.InitOpts(width=\"900px\", height=\"500px\", theme=theme, bg_color=\"#FFFFFF\", ))\n",
    "usti_x = agregace_usti.select(\"rok\").to_pandas().values.flatten().tolist()\n",
    "celkem_y = mala_agregace.select(\"hodnota\").to_pandas().values.flatten().tolist()\n",
    "usti_y = agregace_usti.select(\"hodnota\").to_pandas().values.flatten().tolist()\n",
    "c = (\n",
    "    bar\n",
    "    .add_xaxis(usti_x)\n",
    "    .add_yaxis(\"Počet obyvatel\", celkem_y, stack=\"stack1\")\n",
    "    .add_yaxis(\"Počet obyvatel Ústí\", usti_y, stack=\"stack2\")\n",
    "    .set_series_opts(label_opts=opts.LabelOpts(is_show=False))\n",
    "    .set_global_opts(\n",
    "        title_opts=opts.TitleOpts(title=\"Počty obyvatel v grafech\"),\n",
    "        yaxis_opts=opts.AxisOpts(\n",
    "            type_=\"log\",\n",
    "            name=\"y\",\n",
    "            splitline_opts=opts.SplitLineOpts(is_show=True),\n",
    "            is_scale=True,\n",
    "        ),\n",
    "    )\n",
    ")\n",
    "\n",
    "c.render_notebook()"
   ]
  },
  {
   "cell_type": "code",
   "execution_count": null,
   "metadata": {},
   "outputs": [],
   "source": []
  }
 ],
 "metadata": {
  "kernelspec": {
   "display_name": "base",
   "language": "python",
   "name": "python3"
  },
  "language_info": {
   "codemirror_mode": {
    "name": "ipython",
    "version": 3
   },
   "file_extension": ".py",
   "mimetype": "text/x-python",
   "name": "python",
   "nbconvert_exporter": "python",
   "pygments_lexer": "ipython3",
   "version": "3.10.14"
  }
 },
 "nbformat": 4,
 "nbformat_minor": 2
}
